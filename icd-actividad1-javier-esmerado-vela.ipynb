{
 "cells": [
  {
   "cell_type": "code",
   "execution_count": 1,
   "id": "d1ad9817",
   "metadata": {
    "execution": {
     "iopub.execute_input": "2022-11-26T10:35:05.647110Z",
     "iopub.status.busy": "2022-11-26T10:35:05.646519Z",
     "iopub.status.idle": "2022-11-26T10:35:07.022737Z",
     "shell.execute_reply": "2022-11-26T10:35:07.022013Z"
    },
    "papermill": {
     "duration": 1.386187,
     "end_time": "2022-11-26T10:35:07.025179",
     "exception": false,
     "start_time": "2022-11-26T10:35:05.638992",
     "status": "completed"
    },
    "tags": []
   },
   "outputs": [
    {
     "data": {
      "text/html": [
       "<div>\n",
       "<style scoped>\n",
       "    .dataframe tbody tr th:only-of-type {\n",
       "        vertical-align: middle;\n",
       "    }\n",
       "\n",
       "    .dataframe tbody tr th {\n",
       "        vertical-align: top;\n",
       "    }\n",
       "\n",
       "    .dataframe thead th {\n",
       "        text-align: right;\n",
       "    }\n",
       "</style>\n",
       "<table border=\"1\" class=\"dataframe\">\n",
       "  <thead>\n",
       "    <tr style=\"text-align: right;\">\n",
       "      <th></th>\n",
       "      <th>Unnamed: 0</th>\n",
       "      <th>country</th>\n",
       "      <th>description</th>\n",
       "      <th>designation</th>\n",
       "      <th>points</th>\n",
       "      <th>price</th>\n",
       "      <th>province</th>\n",
       "      <th>region_1</th>\n",
       "      <th>region_2</th>\n",
       "      <th>variety</th>\n",
       "      <th>winery</th>\n",
       "    </tr>\n",
       "  </thead>\n",
       "  <tbody>\n",
       "    <tr>\n",
       "      <th>0</th>\n",
       "      <td>0</td>\n",
       "      <td>US</td>\n",
       "      <td>This tremendous 100% varietal wine hails from ...</td>\n",
       "      <td>Martha's Vineyard</td>\n",
       "      <td>96</td>\n",
       "      <td>235.0</td>\n",
       "      <td>California</td>\n",
       "      <td>Napa Valley</td>\n",
       "      <td>Napa</td>\n",
       "      <td>Cabernet Sauvignon</td>\n",
       "      <td>Heitz</td>\n",
       "    </tr>\n",
       "    <tr>\n",
       "      <th>1</th>\n",
       "      <td>1</td>\n",
       "      <td>Spain</td>\n",
       "      <td>Ripe aromas of fig, blackberry and cassis are ...</td>\n",
       "      <td>Carodorum Selección Especial Reserva</td>\n",
       "      <td>96</td>\n",
       "      <td>110.0</td>\n",
       "      <td>Northern Spain</td>\n",
       "      <td>Toro</td>\n",
       "      <td>NaN</td>\n",
       "      <td>Tinta de Toro</td>\n",
       "      <td>Bodega Carmen Rodríguez</td>\n",
       "    </tr>\n",
       "    <tr>\n",
       "      <th>2</th>\n",
       "      <td>2</td>\n",
       "      <td>US</td>\n",
       "      <td>Mac Watson honors the memory of a wine once ma...</td>\n",
       "      <td>Special Selected Late Harvest</td>\n",
       "      <td>96</td>\n",
       "      <td>90.0</td>\n",
       "      <td>California</td>\n",
       "      <td>Knights Valley</td>\n",
       "      <td>Sonoma</td>\n",
       "      <td>Sauvignon Blanc</td>\n",
       "      <td>Macauley</td>\n",
       "    </tr>\n",
       "    <tr>\n",
       "      <th>3</th>\n",
       "      <td>3</td>\n",
       "      <td>US</td>\n",
       "      <td>This spent 20 months in 30% new French oak, an...</td>\n",
       "      <td>Reserve</td>\n",
       "      <td>96</td>\n",
       "      <td>65.0</td>\n",
       "      <td>Oregon</td>\n",
       "      <td>Willamette Valley</td>\n",
       "      <td>Willamette Valley</td>\n",
       "      <td>Pinot Noir</td>\n",
       "      <td>Ponzi</td>\n",
       "    </tr>\n",
       "    <tr>\n",
       "      <th>4</th>\n",
       "      <td>4</td>\n",
       "      <td>France</td>\n",
       "      <td>This is the top wine from La Bégude, named aft...</td>\n",
       "      <td>La Brûlade</td>\n",
       "      <td>95</td>\n",
       "      <td>66.0</td>\n",
       "      <td>Provence</td>\n",
       "      <td>Bandol</td>\n",
       "      <td>NaN</td>\n",
       "      <td>Provence red blend</td>\n",
       "      <td>Domaine de la Bégude</td>\n",
       "    </tr>\n",
       "  </tbody>\n",
       "</table>\n",
       "</div>"
      ],
      "text/plain": [
       "   Unnamed: 0 country                                        description  \\\n",
       "0           0      US  This tremendous 100% varietal wine hails from ...   \n",
       "1           1   Spain  Ripe aromas of fig, blackberry and cassis are ...   \n",
       "2           2      US  Mac Watson honors the memory of a wine once ma...   \n",
       "3           3      US  This spent 20 months in 30% new French oak, an...   \n",
       "4           4  France  This is the top wine from La Bégude, named aft...   \n",
       "\n",
       "                            designation  points  price        province  \\\n",
       "0                     Martha's Vineyard      96  235.0      California   \n",
       "1  Carodorum Selección Especial Reserva      96  110.0  Northern Spain   \n",
       "2         Special Selected Late Harvest      96   90.0      California   \n",
       "3                               Reserve      96   65.0          Oregon   \n",
       "4                            La Brûlade      95   66.0        Provence   \n",
       "\n",
       "            region_1           region_2             variety  \\\n",
       "0        Napa Valley               Napa  Cabernet Sauvignon   \n",
       "1               Toro                NaN       Tinta de Toro   \n",
       "2     Knights Valley             Sonoma     Sauvignon Blanc   \n",
       "3  Willamette Valley  Willamette Valley          Pinot Noir   \n",
       "4             Bandol                NaN  Provence red blend   \n",
       "\n",
       "                    winery  \n",
       "0                    Heitz  \n",
       "1  Bodega Carmen Rodríguez  \n",
       "2                 Macauley  \n",
       "3                    Ponzi  \n",
       "4     Domaine de la Bégude  "
      ]
     },
     "execution_count": 1,
     "metadata": {},
     "output_type": "execute_result"
    }
   ],
   "source": [
    "import pandas as pd \n",
    "\n",
    "df_original = pd.read_csv(\"../input/wine-reviews/winemag-data_first150k.csv\")\n",
    "df_original.head()"
   ]
  },
  {
   "cell_type": "code",
   "execution_count": 2,
   "id": "99e83dcf",
   "metadata": {
    "execution": {
     "iopub.execute_input": "2022-11-26T10:35:07.036357Z",
     "iopub.status.busy": "2022-11-26T10:35:07.035949Z",
     "iopub.status.idle": "2022-11-26T10:35:07.043821Z",
     "shell.execute_reply": "2022-11-26T10:35:07.042374Z"
    },
    "papermill": {
     "duration": 0.016413,
     "end_time": "2022-11-26T10:35:07.046336",
     "exception": false,
     "start_time": "2022-11-26T10:35:07.029923",
     "status": "completed"
    },
    "tags": []
   },
   "outputs": [
    {
     "data": {
      "text/plain": [
       "(150930, 11)"
      ]
     },
     "execution_count": 2,
     "metadata": {},
     "output_type": "execute_result"
    }
   ],
   "source": [
    "df_original.shape "
   ]
  },
  {
   "cell_type": "code",
   "execution_count": 3,
   "id": "5c644757",
   "metadata": {
    "execution": {
     "iopub.execute_input": "2022-11-26T10:35:07.057562Z",
     "iopub.status.busy": "2022-11-26T10:35:07.057140Z",
     "iopub.status.idle": "2022-11-26T10:35:07.295416Z",
     "shell.execute_reply": "2022-11-26T10:35:07.294467Z"
    },
    "papermill": {
     "duration": 0.24634,
     "end_time": "2022-11-26T10:35:07.297531",
     "exception": false,
     "start_time": "2022-11-26T10:35:07.051191",
     "status": "completed"
    },
    "tags": []
   },
   "outputs": [
    {
     "data": {
      "text/plain": [
       "<AxesSubplot:>"
      ]
     },
     "execution_count": 3,
     "metadata": {},
     "output_type": "execute_result"
    },
    {
     "data": {
      "image/png": "[encoded data removed]",
      "text/plain": [
       "<Figure size 432x288 with 1 Axes>"
      ]
     },
     "metadata": {
      "needs_background": "light"
     },
     "output_type": "display_data"
    }
   ],
   "source": [
    "df_original['country'].value_counts().head(10).plot.bar()"
   ]
  },
  {
   "cell_type": "code",
   "execution_count": 4,
   "id": "8f83b98e",
   "metadata": {
    "execution": {
     "iopub.execute_input": "2022-11-26T10:35:07.310670Z",
     "iopub.status.busy": "2022-11-26T10:35:07.310249Z",
     "iopub.status.idle": "2022-11-26T10:35:07.560481Z",
     "shell.execute_reply": "2022-11-26T10:35:07.559295Z"
    },
    "papermill": {
     "duration": 0.259794,
     "end_time": "2022-11-26T10:35:07.562639",
     "exception": false,
     "start_time": "2022-11-26T10:35:07.302845",
     "status": "completed"
    },
    "tags": []
   },
   "outputs": [
    {
     "data": {
      "text/plain": [
       "<AxesSubplot:>"
      ]
     },
     "execution_count": 4,
     "metadata": {},
     "output_type": "execute_result"
    },
    {
     "data": {
      "image/png": "[encoded data removed]",
      "text/plain": [
       "<Figure size 432x288 with 1 Axes>"
      ]
     },
     "metadata": {
      "needs_background": "light"
     },
     "output_type": "display_data"
    }
   ],
   "source": [
    "df_original['points'].value_counts().sort_index().plot.bar()"
   ]
  },
  {
   "cell_type": "code",
   "execution_count": 5,
   "id": "e7992ccc",
   "metadata": {
    "execution": {
     "iopub.execute_input": "2022-11-26T10:35:07.575040Z",
     "iopub.status.busy": "2022-11-26T10:35:07.574659Z",
     "iopub.status.idle": "2022-11-26T10:35:07.737137Z",
     "shell.execute_reply": "2022-11-26T10:35:07.735805Z"
    },
    "papermill": {
     "duration": 0.171034,
     "end_time": "2022-11-26T10:35:07.739135",
     "exception": false,
     "start_time": "2022-11-26T10:35:07.568101",
     "status": "completed"
    },
    "tags": []
   },
   "outputs": [
    {
     "data": {
      "text/plain": [
       "<AxesSubplot:>"
      ]
     },
     "execution_count": 5,
     "metadata": {},
     "output_type": "execute_result"
    },
    {
     "data": {
      "image/png": "[encoded data removed]",
      "text/plain": [
       "<Figure size 432x288 with 1 Axes>"
      ]
     },
     "metadata": {
      "needs_background": "light"
     },
     "output_type": "display_data"
    }
   ],
   "source": [
    "df_original['price'].value_counts().sort_index().plot.line()"
   ]
  },
  {
   "cell_type": "code",
   "execution_count": 6,
   "id": "2b2d5389",
   "metadata": {
    "execution": {
     "iopub.execute_input": "2022-11-26T10:35:07.752260Z",
     "iopub.status.busy": "2022-11-26T10:35:07.751058Z",
     "iopub.status.idle": "2022-11-26T10:35:08.342470Z",
     "shell.execute_reply": "2022-11-26T10:35:08.341089Z"
    },
    "papermill": {
     "duration": 0.599958,
     "end_time": "2022-11-26T10:35:08.344574",
     "exception": false,
     "start_time": "2022-11-26T10:35:07.744616",
     "status": "completed"
    },
    "tags": []
   },
   "outputs": [
    {
     "data": {
      "text/plain": [
       "<AxesSubplot:xlabel='points', ylabel='price'>"
      ]
     },
     "execution_count": 6,
     "metadata": {},
     "output_type": "execute_result"
    },
    {
     "data": {
      "image/png": "[encoded data removed]",
      "text/plain": [
       "<Figure size 432x288 with 1 Axes>"
      ]
     },
     "metadata": {
      "needs_background": "light"
     },
     "output_type": "display_data"
    }
   ],
   "source": [
    "df_original.plot.scatter(x='points', y='price')"
   ]
  },
  {
   "cell_type": "code",
   "execution_count": 7,
   "id": "78d26fde",
   "metadata": {
    "execution": {
     "iopub.execute_input": "2022-11-26T10:35:08.358236Z",
     "iopub.status.busy": "2022-11-26T10:35:08.357709Z",
     "iopub.status.idle": "2022-11-26T10:35:08.401665Z",
     "shell.execute_reply": "2022-11-26T10:35:08.400656Z"
    },
    "papermill": {
     "duration": 0.053808,
     "end_time": "2022-11-26T10:35:08.404455",
     "exception": false,
     "start_time": "2022-11-26T10:35:08.350647",
     "status": "completed"
    },
    "tags": []
   },
   "outputs": [
    {
     "name": "stdout",
     "output_type": "stream",
     "text": [
      "Price 13695\n",
      "Region_2 89977\n"
     ]
    }
   ],
   "source": [
    "print(\"Price\" + \" \" + str(list(df_original.price.isnull()).count(True)))\n",
    "print(\"Region_2\" + \" \" + str(list(df_original.region_2.isnull()).count(True)))"
   ]
  },
  {
   "cell_type": "code",
   "execution_count": 8,
   "id": "79ee7369",
   "metadata": {
    "execution": {
     "iopub.execute_input": "2022-11-26T10:35:08.420222Z",
     "iopub.status.busy": "2022-11-26T10:35:08.419197Z",
     "iopub.status.idle": "2022-11-26T10:35:10.090411Z",
     "shell.execute_reply": "2022-11-26T10:35:10.089100Z"
    },
    "papermill": {
     "duration": 1.681591,
     "end_time": "2022-11-26T10:35:10.092854",
     "exception": false,
     "start_time": "2022-11-26T10:35:08.411263",
     "status": "completed"
    },
    "tags": []
   },
   "outputs": [
    {
     "data": {
      "text/plain": [
       "<AxesSubplot:xlabel='country', ylabel='count'>"
      ]
     },
     "execution_count": 8,
     "metadata": {},
     "output_type": "execute_result"
    },
    {
     "data": {
      "image/png": "[encoded data removed]",
      "text/plain": [
       "<Figure size 432x288 with 1 Axes>"
      ]
     },
     "metadata": {
      "needs_background": "light"
     },
     "output_type": "display_data"
    }
   ],
   "source": [
    "import seaborn as sns\n",
    "sns.countplot(x= df_original['country'])"
   ]
  },
  {
   "cell_type": "code",
   "execution_count": 9,
   "id": "8d3dbaa6",
   "metadata": {
    "execution": {
     "iopub.execute_input": "2022-11-26T10:35:10.107332Z",
     "iopub.status.busy": "2022-11-26T10:35:10.106964Z",
     "iopub.status.idle": "2022-11-26T10:35:10.265909Z",
     "shell.execute_reply": "2022-11-26T10:35:10.264226Z"
    },
    "papermill": {
     "duration": 0.172036,
     "end_time": "2022-11-26T10:35:10.271476",
     "exception": false,
     "start_time": "2022-11-26T10:35:10.099440",
     "status": "completed"
    },
    "tags": []
   },
   "outputs": [
    {
     "data": {
      "text/plain": [
       "<AxesSubplot:xlabel='country', ylabel='count'>"
      ]
     },
     "execution_count": 9,
     "metadata": {},
     "output_type": "execute_result"
    },
    {
     "data": {
      "image/png": "[encoded data removed]",
      "text/plain": [
       "<Figure size 432x288 with 1 Axes>"
      ]
     },
     "metadata": {
      "needs_background": "light"
     },
     "output_type": "display_data"
    }
   ],
   "source": [
    "import seaborn as sns\n",
    "sns.countplot(x= df_original['country'].head(50))"
   ]
  },
  {
   "cell_type": "code",
   "execution_count": 10,
   "id": "c238729a",
   "metadata": {
    "execution": {
     "iopub.execute_input": "2022-11-26T10:35:10.290611Z",
     "iopub.status.busy": "2022-11-26T10:35:10.289674Z",
     "iopub.status.idle": "2022-11-26T10:35:11.048241Z",
     "shell.execute_reply": "2022-11-26T10:35:11.047381Z"
    },
    "papermill": {
     "duration": 0.769564,
     "end_time": "2022-11-26T10:35:11.051307",
     "exception": false,
     "start_time": "2022-11-26T10:35:10.281743",
     "status": "completed"
    },
    "tags": []
   },
   "outputs": [
    {
     "data": {
      "text/plain": [
       "Text(0.5, 1.0, 'Price of Wine')"
      ]
     },
     "execution_count": 10,
     "metadata": {},
     "output_type": "execute_result"
    },
    {
     "data": {
      "image/png": "[encoded data removed]",
      "text/plain": [
       "<Figure size 432x288 with 1 Axes>"
      ]
     },
     "metadata": {
      "needs_background": "light"
     },
     "output_type": "display_data"
    }
   ],
   "source": [
    "ax = sns.kdeplot(df_original.query('price < 250').price)\n",
    "ax.set_title(\"Price of Wine\")"
   ]
  },
  {
   "cell_type": "code",
   "execution_count": 11,
   "id": "623cba25",
   "metadata": {
    "execution": {
     "iopub.execute_input": "2022-11-26T10:35:11.067862Z",
     "iopub.status.busy": "2022-11-26T10:35:11.067276Z",
     "iopub.status.idle": "2022-11-26T10:35:11.271643Z",
     "shell.execute_reply": "2022-11-26T10:35:11.270333Z"
    },
    "papermill": {
     "duration": 0.216018,
     "end_time": "2022-11-26T10:35:11.274433",
     "exception": false,
     "start_time": "2022-11-26T10:35:11.058415",
     "status": "completed"
    },
    "tags": []
   },
   "outputs": [
    {
     "name": "stderr",
     "output_type": "stream",
     "text": [
      "/opt/conda/lib/python3.7/site-packages/seaborn/distributions.py:2619: FutureWarning: `distplot` is a deprecated function and will be removed in a future version. Please adapt your code to use either `displot` (a figure-level function with similar flexibility) or `histplot` (an axes-level function for histograms).\n",
      "  warnings.warn(msg, FutureWarning)\n"
     ]
    },
    {
     "data": {
      "image/png": "[encoded data removed]",
      "text/plain": [
       "<Figure size 432x288 with 1 Axes>"
      ]
     },
     "metadata": {
      "needs_background": "light"
     },
     "output_type": "display_data"
    }
   ],
   "source": [
    "ax = sns.distplot(df_original['points'], bins = 20, kde = False)"
   ]
  },
  {
   "cell_type": "code",
   "execution_count": 12,
   "id": "7b1ffec8",
   "metadata": {
    "execution": {
     "iopub.execute_input": "2022-11-26T10:35:11.293388Z",
     "iopub.status.busy": "2022-11-26T10:35:11.292968Z",
     "iopub.status.idle": "2022-11-26T10:35:11.538006Z",
     "shell.execute_reply": "2022-11-26T10:35:11.536330Z"
    },
    "papermill": {
     "duration": 0.256705,
     "end_time": "2022-11-26T10:35:11.539979",
     "exception": false,
     "start_time": "2022-11-26T10:35:11.283274",
     "status": "completed"
    },
    "tags": []
   },
   "outputs": [
    {
     "data": {
      "text/plain": [
       "<AxesSubplot:xlabel='variety', ylabel='points'>"
      ]
     },
     "execution_count": 12,
     "metadata": {},
     "output_type": "execute_result"
    },
    {
     "data": {
      "image/png": "[encoded data removed]",
      "text/plain": [
       "<Figure size 432x288 with 1 Axes>"
      ]
     },
     "metadata": {
      "needs_background": "light"
     },
     "output_type": "display_data"
    }
   ],
   "source": [
    "df1 = df_original[df_original.variety.isin(df_original.variety.value_counts().head(5).index)]\n",
    "sns.boxplot(x = 'variety', y = 'points', data = df1)"
   ]
  },
  {
   "cell_type": "code",
   "execution_count": 13,
   "id": "70307e50",
   "metadata": {
    "execution": {
     "iopub.execute_input": "2022-11-26T10:35:11.556781Z",
     "iopub.status.busy": "2022-11-26T10:35:11.556448Z",
     "iopub.status.idle": "2022-11-26T10:35:11.565659Z",
     "shell.execute_reply": "2022-11-26T10:35:11.564729Z"
    },
    "papermill": {
     "duration": 0.020728,
     "end_time": "2022-11-26T10:35:11.568207",
     "exception": false,
     "start_time": "2022-11-26T10:35:11.547479",
     "status": "completed"
    },
    "tags": []
   },
   "outputs": [
    {
     "data": {
      "text/plain": [
       "Unnamed: 0    75464.500000\n",
       "points           87.888418\n",
       "price            33.131482\n",
       "dtype: float64"
      ]
     },
     "execution_count": 13,
     "metadata": {},
     "output_type": "execute_result"
    }
   ],
   "source": [
    "df_original.mean(numeric_only = True)"
   ]
  },
  {
   "cell_type": "code",
   "execution_count": 14,
   "id": "aac25fde",
   "metadata": {
    "execution": {
     "iopub.execute_input": "2022-11-26T10:35:11.585856Z",
     "iopub.status.busy": "2022-11-26T10:35:11.585469Z",
     "iopub.status.idle": "2022-11-26T10:35:11.599293Z",
     "shell.execute_reply": "2022-11-26T10:35:11.598101Z"
    },
    "papermill": {
     "duration": 0.025571,
     "end_time": "2022-11-26T10:35:11.601485",
     "exception": false,
     "start_time": "2022-11-26T10:35:11.575914",
     "status": "completed"
    },
    "tags": []
   },
   "outputs": [
    {
     "data": {
      "text/plain": [
       "Unnamed: 0    75464.5\n",
       "points           88.0\n",
       "price            24.0\n",
       "dtype: float64"
      ]
     },
     "execution_count": 14,
     "metadata": {},
     "output_type": "execute_result"
    }
   ],
   "source": [
    "df_original.median(numeric_only = True)"
   ]
  },
  {
   "cell_type": "code",
   "execution_count": 15,
   "id": "c748a517",
   "metadata": {
    "execution": {
     "iopub.execute_input": "2022-11-26T10:35:11.617877Z",
     "iopub.status.busy": "2022-11-26T10:35:11.617469Z",
     "iopub.status.idle": "2022-11-26T10:35:11.645880Z",
     "shell.execute_reply": "2022-11-26T10:35:11.644744Z"
    },
    "papermill": {
     "duration": 0.038835,
     "end_time": "2022-11-26T10:35:11.647793",
     "exception": false,
     "start_time": "2022-11-26T10:35:11.608958",
     "status": "completed"
    },
    "tags": []
   },
   "outputs": [
    {
     "data": {
      "text/html": [
       "<div>\n",
       "<style scoped>\n",
       "    .dataframe tbody tr th:only-of-type {\n",
       "        vertical-align: middle;\n",
       "    }\n",
       "\n",
       "    .dataframe tbody tr th {\n",
       "        vertical-align: top;\n",
       "    }\n",
       "\n",
       "    .dataframe thead th {\n",
       "        text-align: right;\n",
       "    }\n",
       "</style>\n",
       "<table border=\"1\" class=\"dataframe\">\n",
       "  <thead>\n",
       "    <tr style=\"text-align: right;\">\n",
       "      <th></th>\n",
       "      <th>Unnamed: 0</th>\n",
       "      <th>points</th>\n",
       "      <th>price</th>\n",
       "    </tr>\n",
       "  </thead>\n",
       "  <tbody>\n",
       "    <tr>\n",
       "      <th>0</th>\n",
       "      <td>0</td>\n",
       "      <td>87.0</td>\n",
       "      <td>20.0</td>\n",
       "    </tr>\n",
       "    <tr>\n",
       "      <th>1</th>\n",
       "      <td>1</td>\n",
       "      <td>NaN</td>\n",
       "      <td>NaN</td>\n",
       "    </tr>\n",
       "    <tr>\n",
       "      <th>2</th>\n",
       "      <td>2</td>\n",
       "      <td>NaN</td>\n",
       "      <td>NaN</td>\n",
       "    </tr>\n",
       "    <tr>\n",
       "      <th>3</th>\n",
       "      <td>3</td>\n",
       "      <td>NaN</td>\n",
       "      <td>NaN</td>\n",
       "    </tr>\n",
       "    <tr>\n",
       "      <th>4</th>\n",
       "      <td>4</td>\n",
       "      <td>NaN</td>\n",
       "      <td>NaN</td>\n",
       "    </tr>\n",
       "    <tr>\n",
       "      <th>...</th>\n",
       "      <td>...</td>\n",
       "      <td>...</td>\n",
       "      <td>...</td>\n",
       "    </tr>\n",
       "    <tr>\n",
       "      <th>150925</th>\n",
       "      <td>150925</td>\n",
       "      <td>NaN</td>\n",
       "      <td>NaN</td>\n",
       "    </tr>\n",
       "    <tr>\n",
       "      <th>150926</th>\n",
       "      <td>150926</td>\n",
       "      <td>NaN</td>\n",
       "      <td>NaN</td>\n",
       "    </tr>\n",
       "    <tr>\n",
       "      <th>150927</th>\n",
       "      <td>150927</td>\n",
       "      <td>NaN</td>\n",
       "      <td>NaN</td>\n",
       "    </tr>\n",
       "    <tr>\n",
       "      <th>150928</th>\n",
       "      <td>150928</td>\n",
       "      <td>NaN</td>\n",
       "      <td>NaN</td>\n",
       "    </tr>\n",
       "    <tr>\n",
       "      <th>150929</th>\n",
       "      <td>150929</td>\n",
       "      <td>NaN</td>\n",
       "      <td>NaN</td>\n",
       "    </tr>\n",
       "  </tbody>\n",
       "</table>\n",
       "<p>150930 rows × 3 columns</p>\n",
       "</div>"
      ],
      "text/plain": [
       "        Unnamed: 0  points  price\n",
       "0                0    87.0   20.0\n",
       "1                1     NaN    NaN\n",
       "2                2     NaN    NaN\n",
       "3                3     NaN    NaN\n",
       "4                4     NaN    NaN\n",
       "...            ...     ...    ...\n",
       "150925      150925     NaN    NaN\n",
       "150926      150926     NaN    NaN\n",
       "150927      150927     NaN    NaN\n",
       "150928      150928     NaN    NaN\n",
       "150929      150929     NaN    NaN\n",
       "\n",
       "[150930 rows x 3 columns]"
      ]
     },
     "execution_count": 15,
     "metadata": {},
     "output_type": "execute_result"
    }
   ],
   "source": [
    "df_original.mode(numeric_only = True)"
   ]
  },
  {
   "cell_type": "code",
   "execution_count": 16,
   "id": "52364328",
   "metadata": {
    "execution": {
     "iopub.execute_input": "2022-11-26T10:35:11.664864Z",
     "iopub.status.busy": "2022-11-26T10:35:11.664164Z",
     "iopub.status.idle": "2022-11-26T10:35:11.674151Z",
     "shell.execute_reply": "2022-11-26T10:35:11.673256Z"
    },
    "papermill": {
     "duration": 0.020464,
     "end_time": "2022-11-26T10:35:11.675910",
     "exception": false,
     "start_time": "2022-11-26T10:35:11.655446",
     "status": "completed"
    },
    "tags": []
   },
   "outputs": [
    {
     "data": {
      "text/plain": [
       "Unnamed: 0    1.898335e+09\n",
       "points        1.038381e+01\n",
       "price         1.319327e+03\n",
       "dtype: float64"
      ]
     },
     "execution_count": 16,
     "metadata": {},
     "output_type": "execute_result"
    }
   ],
   "source": [
    "df_original.var(numeric_only = True)"
   ]
  },
  {
   "cell_type": "code",
   "execution_count": 17,
   "id": "7c1053ac",
   "metadata": {
    "execution": {
     "iopub.execute_input": "2022-11-26T10:35:11.694035Z",
     "iopub.status.busy": "2022-11-26T10:35:11.692917Z",
     "iopub.status.idle": "2022-11-26T10:35:11.703713Z",
     "shell.execute_reply": "2022-11-26T10:35:11.702852Z"
    },
    "papermill": {
     "duration": 0.021662,
     "end_time": "2022-11-26T10:35:11.705443",
     "exception": false,
     "start_time": "2022-11-26T10:35:11.683781",
     "status": "completed"
    },
    "tags": []
   },
   "outputs": [
    {
     "data": {
      "text/plain": [
       "Unnamed: 0    43569.882402\n",
       "points            3.222392\n",
       "price            36.322536\n",
       "dtype: float64"
      ]
     },
     "execution_count": 17,
     "metadata": {},
     "output_type": "execute_result"
    }
   ],
   "source": [
    "df_original.std(numeric_only = True)"
   ]
  },
  {
   "cell_type": "code",
   "execution_count": 18,
   "id": "0a7de1f0",
   "metadata": {
    "execution": {
     "iopub.execute_input": "2022-11-26T10:35:11.722938Z",
     "iopub.status.busy": "2022-11-26T10:35:11.722542Z",
     "iopub.status.idle": "2022-11-26T10:35:19.141569Z",
     "shell.execute_reply": "2022-11-26T10:35:19.139470Z"
    },
    "papermill": {
     "duration": 7.430252,
     "end_time": "2022-11-26T10:35:19.143685",
     "exception": false,
     "start_time": "2022-11-26T10:35:11.713433",
     "status": "completed"
    },
    "tags": []
   },
   "outputs": [
    {
     "data": {
      "text/plain": [
       "<seaborn.axisgrid.PairGrid at 0x7fb906f71590>"
      ]
     },
     "execution_count": 18,
     "metadata": {},
     "output_type": "execute_result"
    },
    {
     "data": {
      "image/png": "[encoded data removed]",
      "text/plain": [
       "<Figure size 360x360 with 6 Axes>"
      ]
     },
     "metadata": {
      "needs_background": "light"
     },
     "output_type": "display_data"
    }
   ],
   "source": [
    "sns.pairplot(df_original[['points', 'price']])"
   ]
  }
 ],
 "metadata": {
  "kernelspec": {
   "display_name": "Python 3",
   "language": "python",
   "name": "python3"
  },
  "language_info": {
   "codemirror_mode": {
    "name": "ipython",
    "version": 3
   },
   "file_extension": ".py",
   "mimetype": "text/x-python",
   "name": "python",
   "nbconvert_exporter": "python",
   "pygments_lexer": "ipython3",
   "version": "3.7.12"
  },
  "papermill": {
   "default_parameters": {},
   "duration": 22.238807,
   "end_time": "2022-11-26T10:35:20.275455",
   "environment_variables": {},
   "exception": null,
   "input_path": "__notebook__.ipynb",
   "output_path": "__notebook__.ipynb",
   "parameters": {},
   "start_time": "2022-11-26T10:34:58.036648",
   "version": "2.3.4"
  }
 },
 "nbformat": 4,
 "nbformat_minor": 5
}
